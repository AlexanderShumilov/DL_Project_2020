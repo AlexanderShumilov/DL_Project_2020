{
  "nbformat": 4,
  "nbformat_minor": 0,
  "metadata": {
    "colab": {
      "name": "robust_dataset.ipynb",
      "provenance": [],
      "collapsed_sections": []
    },
    "kernelspec": {
      "name": "python3",
      "display_name": "Python 3"
    },
    "accelerator": "GPU",
    "widgets": {
      "application/vnd.jupyter.widget-state+json": {
        "7344e1c4a8fc44ffaf2646822737da6b": {
          "model_module": "@jupyter-widgets/controls",
          "model_name": "HBoxModel",
          "state": {
            "_view_name": "HBoxView",
            "_dom_classes": [],
            "_model_name": "HBoxModel",
            "_view_module": "@jupyter-widgets/controls",
            "_model_module_version": "1.5.0",
            "_view_count": null,
            "_view_module_version": "1.5.0",
            "box_style": "",
            "layout": "IPY_MODEL_c1fb706878764231bbf4bc5412886c12",
            "_model_module": "@jupyter-widgets/controls",
            "children": [
              "IPY_MODEL_2e08687680dd46b38d3c954dd99269d3",
              "IPY_MODEL_17fd867109484cfba4a5028953b1569f"
            ]
          }
        },
        "c1fb706878764231bbf4bc5412886c12": {
          "model_module": "@jupyter-widgets/base",
          "model_name": "LayoutModel",
          "state": {
            "_view_name": "LayoutView",
            "grid_template_rows": null,
            "right": null,
            "justify_content": null,
            "_view_module": "@jupyter-widgets/base",
            "overflow": null,
            "_model_module_version": "1.2.0",
            "_view_count": null,
            "flex_flow": null,
            "width": null,
            "min_width": null,
            "border": null,
            "align_items": null,
            "bottom": null,
            "_model_module": "@jupyter-widgets/base",
            "top": null,
            "grid_column": null,
            "overflow_y": null,
            "overflow_x": null,
            "grid_auto_flow": null,
            "grid_area": null,
            "grid_template_columns": null,
            "flex": null,
            "_model_name": "LayoutModel",
            "justify_items": null,
            "grid_row": null,
            "max_height": null,
            "align_content": null,
            "visibility": null,
            "align_self": null,
            "height": null,
            "min_height": null,
            "padding": null,
            "grid_auto_rows": null,
            "grid_gap": null,
            "max_width": null,
            "order": null,
            "_view_module_version": "1.2.0",
            "grid_template_areas": null,
            "object_position": null,
            "object_fit": null,
            "grid_auto_columns": null,
            "margin": null,
            "display": null,
            "left": null
          }
        },
        "2e08687680dd46b38d3c954dd99269d3": {
          "model_module": "@jupyter-widgets/controls",
          "model_name": "FloatProgressModel",
          "state": {
            "_view_name": "ProgressView",
            "style": "IPY_MODEL_f5c43b184b534d0ca01fb6f64c9ef7a7",
            "_dom_classes": [],
            "description": "",
            "_model_name": "FloatProgressModel",
            "bar_style": "info",
            "max": 1,
            "_view_module": "@jupyter-widgets/controls",
            "_model_module_version": "1.5.0",
            "value": 1,
            "_view_count": null,
            "_view_module_version": "1.5.0",
            "orientation": "horizontal",
            "min": 0,
            "description_tooltip": null,
            "_model_module": "@jupyter-widgets/controls",
            "layout": "IPY_MODEL_cf6b28a8de34408288146e2ff7be391d"
          }
        },
        "17fd867109484cfba4a5028953b1569f": {
          "model_module": "@jupyter-widgets/controls",
          "model_name": "HTMLModel",
          "state": {
            "_view_name": "HTMLView",
            "style": "IPY_MODEL_28dba8fdb71440249c6b10ef7e61252a",
            "_dom_classes": [],
            "description": "",
            "_model_name": "HTMLModel",
            "placeholder": "​",
            "_view_module": "@jupyter-widgets/controls",
            "_model_module_version": "1.5.0",
            "value": " 170500096/? [00:29&lt;00:00, 16897583.18it/s]",
            "_view_count": null,
            "_view_module_version": "1.5.0",
            "description_tooltip": null,
            "_model_module": "@jupyter-widgets/controls",
            "layout": "IPY_MODEL_e7b2a620db8f4ffcacebcbb380f0d67d"
          }
        },
        "f5c43b184b534d0ca01fb6f64c9ef7a7": {
          "model_module": "@jupyter-widgets/controls",
          "model_name": "ProgressStyleModel",
          "state": {
            "_view_name": "StyleView",
            "_model_name": "ProgressStyleModel",
            "description_width": "initial",
            "_view_module": "@jupyter-widgets/base",
            "_model_module_version": "1.5.0",
            "_view_count": null,
            "_view_module_version": "1.2.0",
            "bar_color": null,
            "_model_module": "@jupyter-widgets/controls"
          }
        },
        "cf6b28a8de34408288146e2ff7be391d": {
          "model_module": "@jupyter-widgets/base",
          "model_name": "LayoutModel",
          "state": {
            "_view_name": "LayoutView",
            "grid_template_rows": null,
            "right": null,
            "justify_content": null,
            "_view_module": "@jupyter-widgets/base",
            "overflow": null,
            "_model_module_version": "1.2.0",
            "_view_count": null,
            "flex_flow": null,
            "width": null,
            "min_width": null,
            "border": null,
            "align_items": null,
            "bottom": null,
            "_model_module": "@jupyter-widgets/base",
            "top": null,
            "grid_column": null,
            "overflow_y": null,
            "overflow_x": null,
            "grid_auto_flow": null,
            "grid_area": null,
            "grid_template_columns": null,
            "flex": null,
            "_model_name": "LayoutModel",
            "justify_items": null,
            "grid_row": null,
            "max_height": null,
            "align_content": null,
            "visibility": null,
            "align_self": null,
            "height": null,
            "min_height": null,
            "padding": null,
            "grid_auto_rows": null,
            "grid_gap": null,
            "max_width": null,
            "order": null,
            "_view_module_version": "1.2.0",
            "grid_template_areas": null,
            "object_position": null,
            "object_fit": null,
            "grid_auto_columns": null,
            "margin": null,
            "display": null,
            "left": null
          }
        },
        "28dba8fdb71440249c6b10ef7e61252a": {
          "model_module": "@jupyter-widgets/controls",
          "model_name": "DescriptionStyleModel",
          "state": {
            "_view_name": "StyleView",
            "_model_name": "DescriptionStyleModel",
            "description_width": "",
            "_view_module": "@jupyter-widgets/base",
            "_model_module_version": "1.5.0",
            "_view_count": null,
            "_view_module_version": "1.2.0",
            "_model_module": "@jupyter-widgets/controls"
          }
        },
        "e7b2a620db8f4ffcacebcbb380f0d67d": {
          "model_module": "@jupyter-widgets/base",
          "model_name": "LayoutModel",
          "state": {
            "_view_name": "LayoutView",
            "grid_template_rows": null,
            "right": null,
            "justify_content": null,
            "_view_module": "@jupyter-widgets/base",
            "overflow": null,
            "_model_module_version": "1.2.0",
            "_view_count": null,
            "flex_flow": null,
            "width": null,
            "min_width": null,
            "border": null,
            "align_items": null,
            "bottom": null,
            "_model_module": "@jupyter-widgets/base",
            "top": null,
            "grid_column": null,
            "overflow_y": null,
            "overflow_x": null,
            "grid_auto_flow": null,
            "grid_area": null,
            "grid_template_columns": null,
            "flex": null,
            "_model_name": "LayoutModel",
            "justify_items": null,
            "grid_row": null,
            "max_height": null,
            "align_content": null,
            "visibility": null,
            "align_self": null,
            "height": null,
            "min_height": null,
            "padding": null,
            "grid_auto_rows": null,
            "grid_gap": null,
            "max_width": null,
            "order": null,
            "_view_module_version": "1.2.0",
            "grid_template_areas": null,
            "object_position": null,
            "object_fit": null,
            "grid_auto_columns": null,
            "margin": null,
            "display": null,
            "left": null
          }
        }
      }
    }
  },
  "cells": [
    {
      "cell_type": "markdown",
      "metadata": {
        "id": "MEdHXcSpRofi",
        "colab_type": "text"
      },
      "source": [
        "###Install robustness"
      ]
    },
    {
      "cell_type": "code",
      "metadata": {
        "id": "C-Tqy8X76viQ",
        "colab_type": "code",
        "outputId": "bc773e63-9350-44ce-8cdb-7412daae461d",
        "colab": {
          "base_uri": "https://localhost:8080/",
          "height": 972
        }
      },
      "source": [
        "!pip install robustness"
      ],
      "execution_count": 1,
      "outputs": [
        {
          "output_type": "stream",
          "text": [
            "Collecting robustness\n",
            "\u001b[?25l  Downloading https://files.pythonhosted.org/packages/14/a7/08c95c2adaaac0e12db226f407cd2f1b87626be89ecf8fcf57af334920b4/robustness-1.1.post2-py3-none-any.whl (73kB)\n",
            "\u001b[K     |████████████████████████████████| 81kB 2.2MB/s \n",
            "\u001b[?25hRequirement already satisfied: torch in /usr/local/lib/python3.6/dist-packages (from robustness) (1.5.0+cu101)\n",
            "Requirement already satisfied: numpy in /usr/local/lib/python3.6/dist-packages (from robustness) (1.18.4)\n",
            "Requirement already satisfied: dill in /usr/local/lib/python3.6/dist-packages (from robustness) (0.3.1.1)\n",
            "Collecting gitpython\n",
            "\u001b[?25l  Downloading https://files.pythonhosted.org/packages/8c/f9/c315aa88e51fabdc08e91b333cfefb255aff04a2ee96d632c32cb19180c9/GitPython-3.1.3-py3-none-any.whl (451kB)\n",
            "\u001b[K     |████████████████████████████████| 460kB 8.3MB/s \n",
            "\u001b[?25hRequirement already satisfied: seaborn in /usr/local/lib/python3.6/dist-packages (from robustness) (0.10.1)\n",
            "Requirement already satisfied: scikit-learn in /usr/local/lib/python3.6/dist-packages (from robustness) (0.22.2.post1)\n",
            "Requirement already satisfied: tqdm in /usr/local/lib/python3.6/dist-packages (from robustness) (4.41.1)\n",
            "Requirement already satisfied: pandas in /usr/local/lib/python3.6/dist-packages (from robustness) (1.0.4)\n",
            "Requirement already satisfied: grpcio in /usr/local/lib/python3.6/dist-packages (from robustness) (1.29.0)\n",
            "Collecting GPUtil\n",
            "  Downloading https://files.pythonhosted.org/packages/ed/0e/5c61eedde9f6c87713e89d794f01e378cfd9565847d4576fa627d758c554/GPUtil-1.4.0.tar.gz\n",
            "Requirement already satisfied: tables in /usr/local/lib/python3.6/dist-packages (from robustness) (3.4.4)\n",
            "Collecting cox\n",
            "  Downloading https://files.pythonhosted.org/packages/3a/42/7602dbce4bfc3740c678117c90625d552985b7f6d33423d116837a1a0777/cox-0.1.post2-py3-none-any.whl\n",
            "Collecting py3nvml\n",
            "\u001b[?25l  Downloading https://files.pythonhosted.org/packages/53/b3/cb30dd8cc1198ae3fdb5a320ca7986d7ca76e23d16415067eafebff8685f/py3nvml-0.2.6-py3-none-any.whl (55kB)\n",
            "\u001b[K     |████████████████████████████████| 61kB 7.7MB/s \n",
            "\u001b[?25hCollecting tensorboardX\n",
            "\u001b[?25l  Downloading https://files.pythonhosted.org/packages/35/f1/5843425495765c8c2dd0784a851a93ef204d314fc87bcc2bbb9f662a3ad1/tensorboardX-2.0-py2.py3-none-any.whl (195kB)\n",
            "\u001b[K     |████████████████████████████████| 204kB 35.2MB/s \n",
            "\u001b[?25hRequirement already satisfied: matplotlib in /usr/local/lib/python3.6/dist-packages (from robustness) (3.2.1)\n",
            "Requirement already satisfied: scipy in /usr/local/lib/python3.6/dist-packages (from robustness) (1.4.1)\n",
            "Requirement already satisfied: torchvision in /usr/local/lib/python3.6/dist-packages (from robustness) (0.6.0+cu101)\n",
            "Requirement already satisfied: psutil in /usr/local/lib/python3.6/dist-packages (from robustness) (5.4.8)\n",
            "Requirement already satisfied: future in /usr/local/lib/python3.6/dist-packages (from torch->robustness) (0.16.0)\n",
            "Collecting gitdb<5,>=4.0.1\n",
            "\u001b[?25l  Downloading https://files.pythonhosted.org/packages/48/11/d1800bca0a3bae820b84b7d813ad1eff15a48a64caea9c823fc8c1b119e8/gitdb-4.0.5-py3-none-any.whl (63kB)\n",
            "\u001b[K     |████████████████████████████████| 71kB 8.8MB/s \n",
            "\u001b[?25hRequirement already satisfied: joblib>=0.11 in /usr/local/lib/python3.6/dist-packages (from scikit-learn->robustness) (0.15.1)\n",
            "Requirement already satisfied: pytz>=2017.2 in /usr/local/lib/python3.6/dist-packages (from pandas->robustness) (2018.9)\n",
            "Requirement already satisfied: python-dateutil>=2.6.1 in /usr/local/lib/python3.6/dist-packages (from pandas->robustness) (2.8.1)\n",
            "Requirement already satisfied: six>=1.5.2 in /usr/local/lib/python3.6/dist-packages (from grpcio->robustness) (1.12.0)\n",
            "Requirement already satisfied: numexpr>=2.5.2 in /usr/local/lib/python3.6/dist-packages (from tables->robustness) (2.7.1)\n",
            "Collecting xmltodict\n",
            "  Downloading https://files.pythonhosted.org/packages/28/fd/30d5c1d3ac29ce229f6bdc40bbc20b28f716e8b363140c26eff19122d8a5/xmltodict-0.12.0-py2.py3-none-any.whl\n",
            "Requirement already satisfied: protobuf>=3.8.0 in /usr/local/lib/python3.6/dist-packages (from tensorboardX->robustness) (3.10.0)\n",
            "Requirement already satisfied: kiwisolver>=1.0.1 in /usr/local/lib/python3.6/dist-packages (from matplotlib->robustness) (1.2.0)\n",
            "Requirement already satisfied: pyparsing!=2.0.4,!=2.1.2,!=2.1.6,>=2.0.1 in /usr/local/lib/python3.6/dist-packages (from matplotlib->robustness) (2.4.7)\n",
            "Requirement already satisfied: cycler>=0.10 in /usr/local/lib/python3.6/dist-packages (from matplotlib->robustness) (0.10.0)\n",
            "Requirement already satisfied: pillow>=4.1.1 in /usr/local/lib/python3.6/dist-packages (from torchvision->robustness) (7.0.0)\n",
            "Collecting smmap<4,>=3.0.1\n",
            "  Downloading https://files.pythonhosted.org/packages/b0/9a/4d409a6234eb940e6a78dfdfc66156e7522262f5f2fecca07dc55915952d/smmap-3.0.4-py2.py3-none-any.whl\n",
            "Requirement already satisfied: setuptools in /usr/local/lib/python3.6/dist-packages (from protobuf>=3.8.0->tensorboardX->robustness) (47.1.1)\n",
            "Building wheels for collected packages: GPUtil\n",
            "  Building wheel for GPUtil (setup.py) ... \u001b[?25l\u001b[?25hdone\n",
            "  Created wheel for GPUtil: filename=GPUtil-1.4.0-cp36-none-any.whl size=7413 sha256=415115e03d568afd17a87918b74b47b5c4636f48897655ce795ea5f04cb2e8a8\n",
            "  Stored in directory: /root/.cache/pip/wheels/3d/77/07/80562de4bb0786e5ea186911a2c831fdd0018bda69beab71fd\n",
            "Successfully built GPUtil\n",
            "Installing collected packages: smmap, gitdb, gitpython, GPUtil, xmltodict, py3nvml, cox, tensorboardX, robustness\n",
            "Successfully installed GPUtil-1.4.0 cox-0.1.post2 gitdb-4.0.5 gitpython-3.1.3 py3nvml-0.2.6 robustness-1.1.post2 smmap-3.0.4 tensorboardX-2.0 xmltodict-0.12.0\n"
          ],
          "name": "stdout"
        }
      ]
    },
    {
      "cell_type": "markdown",
      "metadata": {
        "id": "VpQWMZugR52h",
        "colab_type": "text"
      },
      "source": [
        "###Imports"
      ]
    },
    {
      "cell_type": "code",
      "metadata": {
        "id": "qFYKWMHQzjjh",
        "colab_type": "code",
        "colab": {}
      },
      "source": [
        "import torch\n",
        "import torchvision\n",
        "import torchvision.transforms as transforms\n",
        "import torch.nn as nn\n",
        "import torch.nn.functional as F\n",
        "import numpy as np\n",
        "from robustness.model_utils import make_and_restore_model\n",
        "from robustness.datasets import CIFAR\n",
        "from tqdm import tqdm\n",
        "import matplotlib.pyplot as plt\n",
        "%matplotlib inline"
      ],
      "execution_count": 0,
      "outputs": []
    },
    {
      "cell_type": "markdown",
      "metadata": {
        "id": "DtDoJ0wWR0Hs",
        "colab_type": "text"
      },
      "source": [
        "###Load and prepare CIFAR-10"
      ]
    },
    {
      "cell_type": "code",
      "metadata": {
        "id": "H9kTwhxJz7K9",
        "colab_type": "code",
        "outputId": "a21bd36b-e04e-4ea4-bbee-85535e189ce5",
        "colab": {
          "base_uri": "https://localhost:8080/",
          "height": 100,
          "referenced_widgets": [
            "7344e1c4a8fc44ffaf2646822737da6b",
            "c1fb706878764231bbf4bc5412886c12",
            "2e08687680dd46b38d3c954dd99269d3",
            "17fd867109484cfba4a5028953b1569f",
            "f5c43b184b534d0ca01fb6f64c9ef7a7",
            "cf6b28a8de34408288146e2ff7be391d",
            "28dba8fdb71440249c6b10ef7e61252a",
            "e7b2a620db8f4ffcacebcbb380f0d67d"
          ]
        }
      },
      "source": [
        "transform = transforms.Compose(\n",
        "    [transforms.ToTensor(),\n",
        "     transforms.Normalize((0.5, 0.5, 0.5), (0.5, 0.5, 0.5))\n",
        "     ])\n",
        "\n",
        "trainset = torchvision.datasets.CIFAR10(root='./data', train=True,\n",
        "                                        download=True, transform=transform)\n",
        "\n",
        "\n",
        "testset = torchvision.datasets.CIFAR10(root='./data', train=False,\n",
        "                                       download=True, transform=transform)\n",
        "\n",
        "\n",
        "classes = ('plane', 'car', 'bird', 'cat',\n",
        "           'deer', 'dog', 'frog', 'horse', 'ship', 'truck')\n"
      ],
      "execution_count": 3,
      "outputs": [
        {
          "output_type": "stream",
          "text": [
            "Downloading https://www.cs.toronto.edu/~kriz/cifar-10-python.tar.gz to ./data/cifar-10-python.tar.gz\n"
          ],
          "name": "stdout"
        },
        {
          "output_type": "display_data",
          "data": {
            "application/vnd.jupyter.widget-view+json": {
              "model_id": "7344e1c4a8fc44ffaf2646822737da6b",
              "version_minor": 0,
              "version_major": 2
            },
            "text/plain": [
              "HBox(children=(FloatProgress(value=1.0, bar_style='info', max=1.0), HTML(value='')))"
            ]
          },
          "metadata": {
            "tags": []
          }
        },
        {
          "output_type": "stream",
          "text": [
            "Extracting ./data/cifar-10-python.tar.gz to ./data\n",
            "Files already downloaded and verified\n"
          ],
          "name": "stdout"
        }
      ]
    },
    {
      "cell_type": "code",
      "metadata": {
        "id": "AAuKkIW-RxN2",
        "colab_type": "code",
        "colab": {}
      },
      "source": [
        "ds = CIFAR('data') "
      ],
      "execution_count": 0,
      "outputs": []
    },
    {
      "cell_type": "code",
      "metadata": {
        "id": "aaoHNxvWGUW7",
        "colab_type": "code",
        "colab": {}
      },
      "source": [
        "device = torch.device(\"cuda:0\")"
      ],
      "execution_count": 0,
      "outputs": []
    },
    {
      "cell_type": "markdown",
      "metadata": {
        "id": "n701J9IRR_ti",
        "colab_type": "text"
      },
      "source": [
        "###Load model"
      ]
    },
    {
      "cell_type": "code",
      "metadata": {
        "id": "hrUzEuOlSnZ4",
        "colab_type": "code",
        "colab": {}
      },
      "source": [
        "model, _ = make_and_restore_model(arch='resnet50', dataset=ds, resume_path='cifar_l2_0_25.pt')\n",
        "model.eval()\n",
        "model.to(device)"
      ],
      "execution_count": 0,
      "outputs": []
    },
    {
      "cell_type": "code",
      "metadata": {
        "id": "s3wc-wx3uI3Q",
        "colab_type": "code",
        "colab": {}
      },
      "source": [
        "_, test_loader = ds.make_loaders(workers=0, batch_size=1, shuffle_train=False, shuffle_val=False)\n",
        "_, test_loader_shuffled = ds.make_loaders(workers=0, batch_size=1, shuffle_train=True, shuffle_val=True)"
      ],
      "execution_count": 0,
      "outputs": []
    },
    {
      "cell_type": "code",
      "metadata": {
        "id": "4Ag_nKEawRMx",
        "colab_type": "code",
        "colab": {}
      },
      "source": [
        "def compute_accuracy(logits, y_true, device='cuda:0'):\n",
        "    y_pred = torch.argmax(logits, dim=1)\n",
        "    y_true_on_device = y_true.to(device)\n",
        "    accuracy = (y_pred == y_true_on_device).float().mean()\n",
        "    return accuracy"
      ],
      "execution_count": 0,
      "outputs": []
    },
    {
      "cell_type": "code",
      "metadata": {
        "id": "741ZsTOJzhnw",
        "colab_type": "code",
        "colab": {}
      },
      "source": [
        "criterion = nn.MSELoss()"
      ],
      "execution_count": 0,
      "outputs": []
    },
    {
      "cell_type": "code",
      "metadata": {
        "id": "02oTiIpJIymY",
        "colab_type": "code",
        "colab": {}
      },
      "source": [
        "lr = 0.01"
      ],
      "execution_count": 0,
      "outputs": []
    },
    {
      "cell_type": "markdown",
      "metadata": {
        "id": "eR7HN6mmRLR7",
        "colab_type": "text"
      },
      "source": [
        "###Generation of robust dataset"
      ]
    },
    {
      "cell_type": "code",
      "metadata": {
        "id": "TG-uY8JI1FJs",
        "colab_type": "code",
        "colab": {}
      },
      "source": [
        "#генерация робустного датасета\n",
        "robust_ds = []\n",
        "\n",
        "for i in tqdm(range(len(test_loader))):\n",
        "    X_batch, y_batch = next(iter(test_loader))\n",
        "    X_rand_batch, y_rand_batch = next(iter(test_loader_shuffled))\n",
        "    X_batch_gpu = X_batch.to(device)\n",
        "    X_rand_batch_gpu = X_rand_batch.to(device)\n",
        "\n",
        "    n = 0\n",
        "    while n < 1000:\n",
        "        X_rand_batch_gpu = np.clip(X_rand_batch_gpu.detach().cpu(), 0, 1)\n",
        "        X_rand_batch_gpu.requires_grad_(True)\n",
        "        logits = model(X_batch_gpu)[0]\n",
        "        logits_rand = model(X_rand_batch_gpu)[0]\n",
        "        loss = criterion(logits, logits_rand)\n",
        "        grad = torch.autograd.grad(loss, X_rand_batch_gpu)\n",
        "        x_clone = X_rand_batch_gpu.clone()\n",
        "        x_clone -= lr*grad[0]\n",
        "        X_rand_batch_gpu = x_clone.clone()\n",
        "        n = n + 1\n",
        "    robust_ds.append(X_rand_batch_gpu)\n"
      ],
      "execution_count": 0,
      "outputs": []
    },
    {
      "cell_type": "code",
      "metadata": {
        "id": "yKpK4M0H242Y",
        "colab_type": "code",
        "colab": {}
      },
      "source": [
        "torch.save(robust_ds, 'robust_dataset.pt')"
      ],
      "execution_count": 0,
      "outputs": []
    },
    {
      "cell_type": "markdown",
      "metadata": {
        "id": "05qd2IpDSHu7",
        "colab_type": "text"
      },
      "source": [
        "###Explore robust dataset and compare it with original CIFAR-10"
      ]
    },
    {
      "cell_type": "code",
      "metadata": {
        "id": "YfOT2zGRDP8t",
        "colab_type": "code",
        "colab": {}
      },
      "source": [
        "n_pics_to_show = 10\n",
        "fig, ax = plt.subplots(2, n_pics_to_show, figsize=(20, 10))\n",
        "\n",
        "for i in range(n_pics_to_show):\n",
        "    rand_idx = np.random.randint(len(robust_ds))\n",
        "\n",
        "    pic = robust_ds[rand_idx][0]\n",
        "    pic2 = testset[rand_idx][0]\n",
        "\n",
        "    pic_np = pic.cpu().data.numpy()\n",
        "\n",
        "    pic_np = np.rollaxis(pic_np, 0, 3) # 3xHxW to HxWx3\n",
        "\n",
        "    pic_np2 = pic2.cpu().data.numpy()\n",
        "    pic_np2 = np.rollaxis(pic_np2, 0, 3) # 3xHxW to HxWx3\n",
        "\n",
        "    ax[0, i].imshow(pic_np)\n",
        "\n",
        "\n",
        "    ax[1, i].imshow(pic_np2)\n",
        "\n"
      ],
      "execution_count": 0,
      "outputs": []
    }
  ]
}